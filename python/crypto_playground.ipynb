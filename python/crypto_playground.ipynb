{
 "cells": [
  {
   "cell_type": "code",
   "execution_count": 1,
   "id": "d9c61c1c-c53e-4d62-9bcc-da1872e368bb",
   "metadata": {
    "vscode": {
     "languageId": "python"
    }
   },
   "outputs": [],
   "source": [
    "from py_ecc.bls.g2_primitives import pubkey_to_G1, signature_to_G2"
   ]
  },
  {
   "cell_type": "code",
   "execution_count": 2,
   "id": "d71256af-2b48-46eb-83be-89a660142abb",
   "metadata": {},
   "outputs": [],
   "source": [
    "from py_ecc.bls12_381 import G1, G2, multiply, pairing, neg, curve_order\n",
    "from py_ecc.optimized_bls12_381 import add, Z1\n",
    "import os\n",
    "import time\n",
    "import hashlib"
   ]
  },
  {
   "cell_type": "code",
   "execution_count": 3,
   "id": "63dab454",
   "metadata": {
    "vscode": {
     "languageId": "python"
    }
   },
   "outputs": [],
   "source": [
    "import py_ecc\n",
    "from py_ecc.fields import (\n",
    "    bls12_381_FQ as FQ,\n",
    "    bls12_381_FQ2 as FQ2,\n",
    "    bls12_381_FQ12 as FQ12,\n",
    "    bls12_381_FQP as FQP,\n",
    ")"
   ]
  },
  {
   "cell_type": "code",
   "execution_count": 4,
   "id": "59b09883-ae34-453b-9272-d2dbb1d61793",
   "metadata": {},
   "outputs": [],
   "source": [
    "# Simulate a private-public key pair\n",
    "private_key = int.from_bytes(os.urandom(32), 'big') % curve_order\n",
    "public_key = multiply(G1, private_key)  # [private_key]G2"
   ]
  },
  {
   "cell_type": "code",
   "execution_count": 144,
   "id": "a1b8b18f-6fa5-4c3e-b721-c38a971729dd",
   "metadata": {},
   "outputs": [],
   "source": [
    "def blsSign(message, private_key):\n",
    "    # Message hash (simplified, in practice use a secure hash-to-curve function)\n",
    "    message_hash = multiply(G2, message)\n",
    "\n",
    "    # Sign: signature = [private_key]H(m)\n",
    "    signature = multiply(message_hash, private_key)\n",
    "\n",
    "    return signature"
   ]
  },
  {
   "cell_type": "code",
   "execution_count": 145,
   "id": "6334e5c5-0dd1-43c9-a9e7-1e6e7e504e75",
   "metadata": {},
   "outputs": [],
   "source": [
    "def blsVerify(public_key, message, signature):\n",
    "    message_hash = multiply(G2, message)\n",
    "    return pairing(message_hash, public_key) == pairing(neg(signature),neg(G1))"
   ]
  },
  {
   "cell_type": "code",
   "execution_count": 11,
   "id": "de407334-3b4d-468f-aad4-ff15f32bbd45",
   "metadata": {},
   "outputs": [],
   "source": [
    "GT = pairing(G2,G1)"
   ]
  },
  {
   "cell_type": "code",
   "execution_count": 146,
   "id": "9c86ad9e-616f-4473-ae4e-a4962eb55594",
   "metadata": {},
   "outputs": [],
   "source": [
    "# Hash-to-curve function (simplified, maps to G1)\n",
    "def hash_to_G1(message):\n",
    "    # Hash the message to a scalar and map to G1\n",
    "    # In practice, use a secure hash-to-curve\n",
    "    # This is a simplified version for prototyping\n",
    "    h = hashlib.sha256(str(message).encode()).digest()\n",
    "    scalar = int.from_bytes(h, 'big') % curve_order\n",
    "    return multiply(G1, scalar)"
   ]
  },
  {
   "cell_type": "code",
   "execution_count": 203,
   "id": "f69bdd79-a187-4d3c-8564-38e31c35113a",
   "metadata": {},
   "outputs": [],
   "source": [
    "signature = blsSign(20520820,private_key)"
   ]
  },
  {
   "cell_type": "code",
   "execution_count": 204,
   "id": "76d0466c-f1fd-4fb0-b636-887c9770a012",
   "metadata": {},
   "outputs": [
    {
     "name": "stdout",
     "output_type": "stream",
     "text": [
      "pk (2288140669805754146034429088305634003924644169851294203779919219214088538782878606945747948470635299103273815362397, 1546641121591883163939834989364703750667943713267062029485373499338319203859772948340193697688762734743790625048749)\n",
      "sig ((3896799623892883481180825861067839853763663138197116470781961435031082203423175200183138975925120539526534106318735, 3353502529166151086170773251300610240842510249314973639886096359992398292581470598355900145280337666143908979608954), (1798859856937516732007337673371806949025314255672882151926218279700656703103079417960534703190494642906198611842805, 1763012569307665510099512280787932578593046079065706186030147288098501701696680102784133220848882642856635263727086))\n",
      "H(m) (2678103951128236434036528609166284486865305787838041906061161155718261300389561534985571943727676808509120531122627, 47959504814261139810716729533368699644622975911391729082320392825090231633727900096161277890225592306651577000391)\n"
     ]
    },
    {
     "data": {
      "text/plain": [
       "True"
      ]
     },
     "execution_count": 204,
     "metadata": {},
     "output_type": "execute_result"
    }
   ],
   "source": [
    "message = 20520820\n",
    "print(\"pk\", public_key)\n",
    "print(\"sig\",signature)\n",
    "print(\"H(m)\",hash_to_G1(20520820))\n",
    "message_hash = multiply(G2, message)\n",
    "blsVerify(public_key, message, signature)"
   ]
  },
  {
   "cell_type": "code",
   "execution_count": 19,
   "id": "59ccc525-c001-449b-a1d8-17f2f788848d",
   "metadata": {},
   "outputs": [],
   "source": [
    "# Setup: Generate keys\n",
    "def setup():\n",
    "    # Private key: random scalar\n",
    "    private_key = int.from_bytes(os.urandom(32), 'big') % curve_order\n",
    "    # Public key: [private_key]G2\n",
    "    public_key = multiply(G2, private_key)\n",
    "    return private_key, public_key"
   ]
  },
  {
   "cell_type": "code",
   "execution_count": 9,
   "id": "38e0a3c9-cd9a-4e5a-b485-519867768ab5",
   "metadata": {},
   "outputs": [],
   "source": [
    "# Encryption: Enc(m, t, pk, g1)\n",
    "def encrypt(message, time, public_key, g1=G1):\n",
    "    if not isinstance(message, int) or message < 0:\n",
    "        raise ValueError(\"Message must be a non-negative small integer\")\n",
    "    # Hash time to G2 (in production use proper hash-to-curve function)\n",
    "    h_t = multiply(G2,time)\n",
    "    # Random scalar r\n",
    "    r = int.from_bytes(os.urandom(32), 'big') % curve_order\n",
    "    # c1 = g1^(m + r)\n",
    "    c1 = multiply(g1, r % curve_order)\n",
    "    # c2 = e(h_t, pk)^r\n",
    "    g_rho = pairing(h_t, public_key)\n",
    "    # Raise e_ht_pk to the power r (in GT, which is a field)\n",
    "    # py_ecc doesn't provide direct GT exponentiation, so we simulate\n",
    "    # In practice, use a library with GT operations or adjust scheme\n",
    "    # For simplicity, store e_ht_pk and r (not secure, for demo only)\n",
    "    c2 = (GT**message)*(g_rho**r)\n",
    "    return c1, c2"
   ]
  },
  {
   "cell_type": "code",
   "execution_count": 252,
   "id": "d10826b4-b522-4578-8490-0c81f852cb29",
   "metadata": {},
   "outputs": [
    {
     "name": "stdout",
     "output_type": "stream",
     "text": [
      "Let's encrypt!\n"
     ]
    },
    {
     "ename": "TypeError",
     "evalue": "Expected an FQP object, but got object of type <class 'py_ecc.fields.bls12_381_FQ'>",
     "output_type": "error",
     "traceback": [
      "\u001b[31m---------------------------------------------------------------------------\u001b[39m",
      "\u001b[31mTypeError\u001b[39m                                 Traceback (most recent call last)",
      "\u001b[36mCell\u001b[39m\u001b[36m \u001b[39m\u001b[32mIn[252]\u001b[39m\u001b[32m, line 7\u001b[39m\n\u001b[32m      5\u001b[39m start = time.time()\n\u001b[32m      6\u001b[39m \u001b[38;5;28;01mfor\u001b[39;00m i \u001b[38;5;129;01min\u001b[39;00m \u001b[38;5;28mrange\u001b[39m(noOfEncryptedMessages):\n\u001b[32m----> \u001b[39m\u001b[32m7\u001b[39m     c1,c2=\u001b[43mencrypt\u001b[49m\u001b[43m(\u001b[49m\u001b[43mi\u001b[49m\u001b[43m+\u001b[49m\u001b[32;43m5\u001b[39;49m\u001b[43m,\u001b[49m\u001b[32;43m20250820\u001b[39;49m\u001b[43m,\u001b[49m\u001b[43mpk\u001b[49m\u001b[43m)\u001b[49m\n\u001b[32m      8\u001b[39m end = time.time()\n\u001b[32m      9\u001b[39m \u001b[38;5;28mprint\u001b[39m(\u001b[33m\"\u001b[39m\u001b[33mEncrypting one message takes: \u001b[39m\u001b[33m\"\u001b[39m,(end - start)/noOfEncryptedMessages)  \n",
      "\u001b[36mCell\u001b[39m\u001b[36m \u001b[39m\u001b[32mIn[251]\u001b[39m\u001b[32m, line 12\u001b[39m, in \u001b[36mencrypt\u001b[39m\u001b[34m(message, time, public_key, g1)\u001b[39m\n\u001b[32m     10\u001b[39m c1 = multiply(g1, r % curve_order)\n\u001b[32m     11\u001b[39m \u001b[38;5;66;03m# c2 = e(h_t, pk)^r\u001b[39;00m\n\u001b[32m---> \u001b[39m\u001b[32m12\u001b[39m g_rho = \u001b[43mpairing\u001b[49m\u001b[43m(\u001b[49m\u001b[43mh_t\u001b[49m\u001b[43m,\u001b[49m\u001b[43m \u001b[49m\u001b[43mpublic_key\u001b[49m\u001b[43m)\u001b[49m\n\u001b[32m     13\u001b[39m \u001b[38;5;66;03m# Raise e_ht_pk to the power r (in GT, which is a field)\u001b[39;00m\n\u001b[32m     14\u001b[39m \u001b[38;5;66;03m# py_ecc doesn't provide direct GT exponentiation, so we simulate\u001b[39;00m\n\u001b[32m     15\u001b[39m \u001b[38;5;66;03m# In practice, use a library with GT operations or adjust scheme\u001b[39;00m\n\u001b[32m     16\u001b[39m \u001b[38;5;66;03m# For simplicity, store e_ht_pk and r (not secure, for demo only)\u001b[39;00m\n\u001b[32m     17\u001b[39m c2 = (GT**message)*(g_rho**r)\n",
      "\u001b[36mFile \u001b[39m\u001b[32m~/crypto_venv/lib/python3.13/site-packages/py_ecc/bls12_381/bls12_381_pairing.py:111\u001b[39m, in \u001b[36mpairing\u001b[39m\u001b[34m(Q, P)\u001b[39m\n\u001b[32m    109\u001b[39m \u001b[38;5;28;01mif\u001b[39;00m \u001b[38;5;129;01mnot\u001b[39;00m is_on_curve(Q, b2):\n\u001b[32m    110\u001b[39m     \u001b[38;5;28;01mraise\u001b[39;00m \u001b[38;5;167;01mValueError\u001b[39;00m(\u001b[33m\"\u001b[39m\u001b[33mInvalid input - point Q is not on the correct curve\u001b[39m\u001b[33m\"\u001b[39m)\n\u001b[32m--> \u001b[39m\u001b[32m111\u001b[39m \u001b[38;5;28;01mif\u001b[39;00m \u001b[38;5;129;01mnot\u001b[39;00m \u001b[43mis_on_curve\u001b[49m\u001b[43m(\u001b[49m\u001b[43mP\u001b[49m\u001b[43m,\u001b[49m\u001b[43m \u001b[49m\u001b[43mb\u001b[49m\u001b[43m)\u001b[49m:\n\u001b[32m    112\u001b[39m     \u001b[38;5;28;01mraise\u001b[39;00m \u001b[38;5;167;01mValueError\u001b[39;00m(\u001b[33m\"\u001b[39m\u001b[33mInvalid input - point P is not on the correct curves\u001b[39m\u001b[33m\"\u001b[39m)\n\u001b[32m    113\u001b[39m \u001b[38;5;28;01mreturn\u001b[39;00m miller_loop(twist(Q), cast_point_to_fq12(P))\n",
      "\u001b[36mFile \u001b[39m\u001b[32m~/crypto_venv/lib/python3.13/site-packages/py_ecc/bls12_381/bls12_381_curve.py:75\u001b[39m, in \u001b[36mis_on_curve\u001b[39m\u001b[34m(pt, b)\u001b[39m\n\u001b[32m     73\u001b[39m     \u001b[38;5;28;01mreturn\u001b[39;00m \u001b[38;5;28;01mTrue\u001b[39;00m\n\u001b[32m     74\u001b[39m x, y = pt\n\u001b[32m---> \u001b[39m\u001b[32m75\u001b[39m \u001b[38;5;28;01mreturn\u001b[39;00m \u001b[43my\u001b[49m\u001b[43m*\u001b[49m\u001b[43m*\u001b[49m\u001b[32;43m2\u001b[39;49m\u001b[43m \u001b[49m\u001b[43m-\u001b[49m\u001b[43m \u001b[49m\u001b[43mx\u001b[49m\u001b[43m*\u001b[49m\u001b[43m*\u001b[49m\u001b[32;43m3\u001b[39;49m\u001b[43m \u001b[49m\u001b[43m==\u001b[49m\u001b[43m \u001b[49m\u001b[43mb\u001b[49m\n",
      "\u001b[36mFile \u001b[39m\u001b[32m~/crypto_venv/lib/python3.13/site-packages/py_ecc/fields/field_elements.py:343\u001b[39m, in \u001b[36mFQP.__eq__\u001b[39m\u001b[34m(self, other)\u001b[39m\n\u001b[32m    341\u001b[39m \u001b[38;5;28;01mdef\u001b[39;00m\u001b[38;5;250m \u001b[39m\u001b[34m__eq__\u001b[39m(\u001b[38;5;28mself\u001b[39m: T_FQP, other: Any) -> \u001b[38;5;28mbool\u001b[39m:\n\u001b[32m    342\u001b[39m     \u001b[38;5;28;01mif\u001b[39;00m \u001b[38;5;129;01mnot\u001b[39;00m \u001b[38;5;28misinstance\u001b[39m(other, \u001b[38;5;28mtype\u001b[39m(\u001b[38;5;28mself\u001b[39m)):\n\u001b[32m--> \u001b[39m\u001b[32m343\u001b[39m         \u001b[38;5;28;01mraise\u001b[39;00m \u001b[38;5;167;01mTypeError\u001b[39;00m(\n\u001b[32m    344\u001b[39m             \u001b[33mf\u001b[39m\u001b[33m\"\u001b[39m\u001b[33mExpected an FQP object, but got object of type \u001b[39m\u001b[38;5;132;01m{\u001b[39;00m\u001b[38;5;28mtype\u001b[39m(other)\u001b[38;5;132;01m}\u001b[39;00m\u001b[33m\"\u001b[39m\n\u001b[32m    345\u001b[39m         )\n\u001b[32m    347\u001b[39m     \u001b[38;5;28;01mfor\u001b[39;00m c1, c2 \u001b[38;5;129;01min\u001b[39;00m \u001b[38;5;28mzip\u001b[39m(\u001b[38;5;28mself\u001b[39m.coeffs, other.coeffs):\n\u001b[32m    348\u001b[39m         \u001b[38;5;28;01mif\u001b[39;00m c1 != c2:\n",
      "\u001b[31mTypeError\u001b[39m: Expected an FQP object, but got object of type <class 'py_ecc.fields.bls12_381_FQ'>"
     ]
    }
   ],
   "source": [
    "## The secret and public key of the authority who signs the timestamps\n",
    "sk, pk = setup()\n",
    "print(\"Let's encrypt!\")\n",
    "noOfEncryptedMessages = 10\n",
    "start = time.time()\n",
    "for i in range(noOfEncryptedMessages):\n",
    "    c1,c2=encrypt(i+5,20250820,pk)\n",
    "end = time.time()\n",
    "print(\"Encrypting one message takes: \",(end - start)/noOfEncryptedMessages)  "
   ]
  },
  {
   "cell_type": "code",
   "execution_count": 196,
   "id": "fa8effdf-9ae5-4dd0-97ae-cbb5268cd8b1",
   "metadata": {},
   "outputs": [],
   "source": [
    "def createLookUpTable(noOfEncryptedMessages):\n",
    "    table = {}\n",
    "    for i in range(noOfEncryptedMessages):\n",
    "        GTm = GT**i\n",
    "        table[hashlib.sha256(str(GTm.coeffs[0]).encode()).digest()]=i\n",
    "    return table"
   ]
  },
  {
   "cell_type": "code",
   "execution_count": 197,
   "id": "291ffe8f-90a6-4df4-a972-6100ab819ef6",
   "metadata": {},
   "outputs": [],
   "source": [
    "table = createLookUpTable(2048)"
   ]
  },
  {
   "cell_type": "code",
   "execution_count": 198,
   "id": "eb048c4d-d1fc-493c-aa1a-2b6c1737bedf",
   "metadata": {},
   "outputs": [
    {
     "data": {
      "text/plain": [
       "b'\\xc5\\x92\\xb5#57\\xb0\\xa5@L\\xa1\\xee4\\xfb9\\x03\\x83&Ej\\x972\\xae\\xdc\\xe2\\x03\\xb2\\xa9%%\\xcb\\x92'"
      ]
     },
     "execution_count": 198,
     "metadata": {},
     "output_type": "execute_result"
    }
   ],
   "source": [
    "hashlib.sha256(str(GT.coeffs[0]).encode()).digest()"
   ]
  },
  {
   "cell_type": "code",
   "execution_count": 232,
   "id": "7cf5d913-e886-43cc-ae94-17f8d1c44260",
   "metadata": {},
   "outputs": [],
   "source": [
    "# Decryption: Dec(c1, c2, t, sigma_t, g2)\n",
    "def decrypt(c1, c2, time, signature, table, public_key):\n",
    "    #print(blsVerify(public_key, time, signature))\n",
    "    gTm = c2*pairing(neg(signature), c1)\n",
    "    #print(gTm)\n",
    "    keyOfM = hashlib.sha256(str(gTm.coeffs[0]).encode()).digest()\n",
    "    m = table[keyOfM]\n",
    "    return m"
   ]
  },
  {
   "cell_type": "code",
   "execution_count": 13,
   "id": "d7dcff7c-5550-49ec-ab40-712cd47b598f",
   "metadata": {},
   "outputs": [],
   "source": [
    "def homomorphicAddition(c11, c12, c21, c22):\n",
    "    c31 = py_ecc.bls12_381.add(c11, c21)\n",
    "    c32 = c12*c22 \n",
    "    return (c31, c32)"
   ]
  },
  {
   "cell_type": "code",
   "execution_count": 222,
   "id": "a0e04e67-aa0b-459b-a59a-702e8f469c1d",
   "metadata": {},
   "outputs": [],
   "source": [
    "(c1,c2)=encrypt(43,20520820,public_key)"
   ]
  },
  {
   "cell_type": "code",
   "execution_count": 223,
   "id": "6823185b-c617-4625-a152-5a4d2d68c7f5",
   "metadata": {},
   "outputs": [],
   "source": [
    "(c3,c4)=encrypt(5,20520820,public_key)"
   ]
  },
  {
   "cell_type": "code",
   "execution_count": 224,
   "id": "d058fe1d-5ac2-4584-ba84-f27c086d16c0",
   "metadata": {},
   "outputs": [],
   "source": [
    "c5,c6 = homomorphicAddition(c1,c2,c3,c4)"
   ]
  },
  {
   "cell_type": "code",
   "execution_count": 225,
   "id": "9d584e48-04c4-4774-89aa-0de62774aca4",
   "metadata": {},
   "outputs": [
    {
     "name": "stdout",
     "output_type": "stream",
     "text": [
      "True\n",
      "(2489785276631328532382142120316311246421586111889668427669664432779815905670575890864251129229565078115263922597179, 1140382248321545103566733409060785179279785875532383357925979206339050297359063098560734115941687929474943168643441, 2212276760027287352708487584443730086020194872786412390215096450409209743811230500833359062492032453937809873415821, 1983090043190328134757268627700957737926235620877492902545811290820092442709714266416995940432193144160546576429165, 2025720272019788713742928880389510520246709349929780306200708705488480397978260897241433383898826053741861599263410, 3029361848257132684841214088469464377900090561313144047514894752649602007890322301777868911287565471872456061945535, 392010473858789823983567521442395367009907228419650636440882166359987668135456994190147727125473436144726676039927, 2065784563995303653592069024021957129204640725037314518170587968716444932781664550707250792920888131543107525641957, 3088526498563901550998344126166400075235247659554473187928140625155923645135146608922452963689956536991857907612405, 349279106918008197214528749984799271742120465813055942066815641873446143826805798780496028730727935016940827964548, 1378138487368144083135166081328397316279576278135660203758578755304984615422989164109563213347005953907974562124702, 786892827045441713817398679929279876249699739875087236985096861420059566091334338664755998062905957699946275441520)\n"
     ]
    },
    {
     "data": {
      "text/plain": [
       "48"
      ]
     },
     "execution_count": 225,
     "metadata": {},
     "output_type": "execute_result"
    }
   ],
   "source": [
    "decrypt(c5,c6,20520820,signature,table,public_key)"
   ]
  },
  {
   "cell_type": "code",
   "execution_count": 167,
   "id": "565c1f74-caca-4a7b-8e2c-92773fd15f86",
   "metadata": {},
   "outputs": [
    {
     "data": {
      "text/plain": [
       "(3075181513924604203747816211905240043391475707871695446958625655841442090780725342058643353154594722075857509823206, 1552044913488320305383075166329358337178514531188939793195137978864084373258324081604374890056817311297726434722219, 2001455281950980003234726740770617078177441893920639654463875656501298268243067863739996352385272135522296190123676, 1690247094084382516084964823749500435580313678219710543398121378073254324148644418138984038949827116695602294527568, 3679985777122218733312892402635664565995939705497953266129447819942841149753689434725062032969682725067154591791268, 3700277798497245412424581448036267041689856247537014098411638078317892191354475602216372076541041228898266061764766, 120851743802075313597062557165364294569143517026561492445696544816107290141973742779406724059757034085837233478066, 631010317016923343636817313740414360249950807431926429435145953839484758949653053241346270081179418954155680435884, 3729751931995529888272715000628176680951908031715751975824737021712942435209646768380158681978442814458308424721365, 2475648262999840514037674332204800132204231618916855089183151366574034613619317156668181804751663589886045589486204, 521982232490704126008104140400075778975177527062642971406821189808031750697418017041872643444577353478739594247935, 1180161609341028858455704193668011080176114278297545605001173323451828348131413893362419302822319217677282150684471)"
      ]
     },
     "execution_count": 167,
     "metadata": {},
     "output_type": "execute_result"
    }
   ],
   "source": [
    "GT**43"
   ]
  },
  {
   "cell_type": "code",
   "execution_count": 253,
   "id": "cfdd0686-7953-4722-875d-68a1e4ed35a9",
   "metadata": {},
   "outputs": [
    {
     "name": "stdout",
     "output_type": "stream",
     "text": [
      "The 17th lookup table is ready\n",
      "17\n",
      "2.087894022464752 1.9509211778640747\n"
     ]
    },
    {
     "ename": "KeyboardInterrupt",
     "evalue": "",
     "output_type": "error",
     "traceback": [
      "\u001b[31m---------------------------------------------------------------------------\u001b[39m",
      "\u001b[31mKeyboardInterrupt\u001b[39m                         Traceback (most recent call last)",
      "\u001b[36mCell\u001b[39m\u001b[36m \u001b[39m\u001b[32mIn[253]\u001b[39m\u001b[32m, line 9\u001b[39m\n\u001b[32m      7\u001b[39m \u001b[38;5;28;01mfor\u001b[39;00m j \u001b[38;5;129;01min\u001b[39;00m \u001b[38;5;28mrange\u001b[39m(\u001b[32m17\u001b[39m,\u001b[32m20\u001b[39m):\n\u001b[32m      8\u001b[39m     tableSize = \u001b[32m2\u001b[39m**j\n\u001b[32m----> \u001b[39m\u001b[32m9\u001b[39m     table = \u001b[43mcreateLookUpTable\u001b[49m\u001b[43m(\u001b[49m\u001b[43mtableSize\u001b[49m\u001b[43m)\u001b[49m\n\u001b[32m     10\u001b[39m     \u001b[38;5;28mprint\u001b[39m(\u001b[33m\"\u001b[39m\u001b[33mThe \u001b[39m\u001b[33m\"\u001b[39m+\u001b[38;5;28mstr\u001b[39m(j)+\u001b[33m\"\u001b[39m\u001b[33mth lookup table is ready\u001b[39m\u001b[33m\"\u001b[39m)\n\u001b[32m     11\u001b[39m     encryptionTime = \u001b[32m0\u001b[39m\n",
      "\u001b[36mCell\u001b[39m\u001b[36m \u001b[39m\u001b[32mIn[196]\u001b[39m\u001b[32m, line 4\u001b[39m, in \u001b[36mcreateLookUpTable\u001b[39m\u001b[34m(noOfEncryptedMessages)\u001b[39m\n\u001b[32m      2\u001b[39m table = {}\n\u001b[32m      3\u001b[39m \u001b[38;5;28;01mfor\u001b[39;00m i \u001b[38;5;129;01min\u001b[39;00m \u001b[38;5;28mrange\u001b[39m(noOfEncryptedMessages):\n\u001b[32m----> \u001b[39m\u001b[32m4\u001b[39m     GTm = \u001b[43mGT\u001b[49m\u001b[43m*\u001b[49m\u001b[43m*\u001b[49m\u001b[43mi\u001b[49m\n\u001b[32m      5\u001b[39m     table[hashlib.sha256(\u001b[38;5;28mstr\u001b[39m(GTm.coeffs[\u001b[32m0\u001b[39m]).encode()).digest()]=i\n\u001b[32m      6\u001b[39m \u001b[38;5;28;01mreturn\u001b[39;00m table\n",
      "\u001b[36mFile \u001b[39m\u001b[32m~/crypto_venv/lib/python3.13/site-packages/py_ecc/fields/field_elements.py:299\u001b[39m, in \u001b[36mFQP.__pow__\u001b[39m\u001b[34m(self, other)\u001b[39m\n\u001b[32m    297\u001b[39m     \u001b[38;5;28;01mreturn\u001b[39;00m (\u001b[38;5;28mself\u001b[39m * \u001b[38;5;28mself\u001b[39m) ** (other // \u001b[32m2\u001b[39m)\n\u001b[32m    298\u001b[39m \u001b[38;5;28;01melse\u001b[39;00m:\n\u001b[32m--> \u001b[39m\u001b[32m299\u001b[39m     \u001b[38;5;28;01mreturn\u001b[39;00m (\u001b[43m(\u001b[49m\u001b[38;5;28;43mself\u001b[39;49m\u001b[43m \u001b[49m\u001b[43m*\u001b[49m\u001b[43m \u001b[49m\u001b[38;5;28;43mself\u001b[39;49m\u001b[43m)\u001b[49m\u001b[43m \u001b[49m\u001b[43m*\u001b[49m\u001b[43m*\u001b[49m\u001b[43m \u001b[49m\u001b[38;5;28;43mint\u001b[39;49m\u001b[43m(\u001b[49m\u001b[43mother\u001b[49m\u001b[43m \u001b[49m\u001b[43m/\u001b[49m\u001b[43m/\u001b[49m\u001b[43m \u001b[49m\u001b[32;43m2\u001b[39;49m\u001b[43m)\u001b[49m) * \u001b[38;5;28mself\u001b[39m\n",
      "\u001b[36mFile \u001b[39m\u001b[32m~/crypto_venv/lib/python3.13/site-packages/py_ecc/fields/field_elements.py:299\u001b[39m, in \u001b[36mFQP.__pow__\u001b[39m\u001b[34m(self, other)\u001b[39m\n\u001b[32m    297\u001b[39m     \u001b[38;5;28;01mreturn\u001b[39;00m (\u001b[38;5;28mself\u001b[39m * \u001b[38;5;28mself\u001b[39m) ** (other // \u001b[32m2\u001b[39m)\n\u001b[32m    298\u001b[39m \u001b[38;5;28;01melse\u001b[39;00m:\n\u001b[32m--> \u001b[39m\u001b[32m299\u001b[39m     \u001b[38;5;28;01mreturn\u001b[39;00m (\u001b[43m(\u001b[49m\u001b[38;5;28;43mself\u001b[39;49m\u001b[43m \u001b[49m\u001b[43m*\u001b[49m\u001b[43m \u001b[49m\u001b[38;5;28;43mself\u001b[39;49m\u001b[43m)\u001b[49m\u001b[43m \u001b[49m\u001b[43m*\u001b[49m\u001b[43m*\u001b[49m\u001b[43m \u001b[49m\u001b[38;5;28;43mint\u001b[39;49m\u001b[43m(\u001b[49m\u001b[43mother\u001b[49m\u001b[43m \u001b[49m\u001b[43m/\u001b[49m\u001b[43m/\u001b[49m\u001b[43m \u001b[49m\u001b[32;43m2\u001b[39;49m\u001b[43m)\u001b[49m) * \u001b[38;5;28mself\u001b[39m\n",
      "\u001b[36mFile \u001b[39m\u001b[32m~/crypto_venv/lib/python3.13/site-packages/py_ecc/fields/field_elements.py:297\u001b[39m, in \u001b[36mFQP.__pow__\u001b[39m\u001b[34m(self, other)\u001b[39m\n\u001b[32m    295\u001b[39m     \u001b[38;5;28;01mreturn\u001b[39;00m \u001b[38;5;28mtype\u001b[39m(\u001b[38;5;28mself\u001b[39m)(\u001b[38;5;28mself\u001b[39m.coeffs)\n\u001b[32m    296\u001b[39m \u001b[38;5;28;01melif\u001b[39;00m other % \u001b[32m2\u001b[39m == \u001b[32m0\u001b[39m:\n\u001b[32m--> \u001b[39m\u001b[32m297\u001b[39m     \u001b[38;5;28;01mreturn\u001b[39;00m \u001b[43m(\u001b[49m\u001b[38;5;28;43mself\u001b[39;49m\u001b[43m \u001b[49m\u001b[43m*\u001b[49m\u001b[43m \u001b[49m\u001b[38;5;28;43mself\u001b[39;49m\u001b[43m)\u001b[49m\u001b[43m \u001b[49m\u001b[43m*\u001b[49m\u001b[43m*\u001b[49m\u001b[43m \u001b[49m\u001b[43m(\u001b[49m\u001b[43mother\u001b[49m\u001b[43m \u001b[49m\u001b[43m/\u001b[49m\u001b[43m/\u001b[49m\u001b[43m \u001b[49m\u001b[32;43m2\u001b[39;49m\u001b[43m)\u001b[49m\n\u001b[32m    298\u001b[39m \u001b[38;5;28;01melse\u001b[39;00m:\n\u001b[32m    299\u001b[39m     \u001b[38;5;28;01mreturn\u001b[39;00m ((\u001b[38;5;28mself\u001b[39m * \u001b[38;5;28mself\u001b[39m) ** \u001b[38;5;28mint\u001b[39m(other // \u001b[32m2\u001b[39m)) * \u001b[38;5;28mself\u001b[39m\n",
      "\u001b[36mFile \u001b[39m\u001b[32m~/crypto_venv/lib/python3.13/site-packages/py_ecc/fields/field_elements.py:299\u001b[39m, in \u001b[36mFQP.__pow__\u001b[39m\u001b[34m(self, other)\u001b[39m\n\u001b[32m    297\u001b[39m     \u001b[38;5;28;01mreturn\u001b[39;00m (\u001b[38;5;28mself\u001b[39m * \u001b[38;5;28mself\u001b[39m) ** (other // \u001b[32m2\u001b[39m)\n\u001b[32m    298\u001b[39m \u001b[38;5;28;01melse\u001b[39;00m:\n\u001b[32m--> \u001b[39m\u001b[32m299\u001b[39m     \u001b[38;5;28;01mreturn\u001b[39;00m (\u001b[43m(\u001b[49m\u001b[38;5;28;43mself\u001b[39;49m\u001b[43m \u001b[49m\u001b[43m*\u001b[49m\u001b[43m \u001b[49m\u001b[38;5;28;43mself\u001b[39;49m\u001b[43m)\u001b[49m\u001b[43m \u001b[49m\u001b[43m*\u001b[49m\u001b[43m*\u001b[49m\u001b[43m \u001b[49m\u001b[38;5;28;43mint\u001b[39;49m\u001b[43m(\u001b[49m\u001b[43mother\u001b[49m\u001b[43m \u001b[49m\u001b[43m/\u001b[49m\u001b[43m/\u001b[49m\u001b[43m \u001b[49m\u001b[32;43m2\u001b[39;49m\u001b[43m)\u001b[49m) * \u001b[38;5;28mself\u001b[39m\n",
      "\u001b[36mFile \u001b[39m\u001b[32m~/crypto_venv/lib/python3.13/site-packages/py_ecc/fields/field_elements.py:299\u001b[39m, in \u001b[36mFQP.__pow__\u001b[39m\u001b[34m(self, other)\u001b[39m\n\u001b[32m    297\u001b[39m     \u001b[38;5;28;01mreturn\u001b[39;00m (\u001b[38;5;28mself\u001b[39m * \u001b[38;5;28mself\u001b[39m) ** (other // \u001b[32m2\u001b[39m)\n\u001b[32m    298\u001b[39m \u001b[38;5;28;01melse\u001b[39;00m:\n\u001b[32m--> \u001b[39m\u001b[32m299\u001b[39m     \u001b[38;5;28;01mreturn\u001b[39;00m (\u001b[43m(\u001b[49m\u001b[38;5;28;43mself\u001b[39;49m\u001b[43m \u001b[49m\u001b[43m*\u001b[49m\u001b[43m \u001b[49m\u001b[38;5;28;43mself\u001b[39;49m\u001b[43m)\u001b[49m\u001b[43m \u001b[49m\u001b[43m*\u001b[49m\u001b[43m*\u001b[49m\u001b[43m \u001b[49m\u001b[38;5;28;43mint\u001b[39;49m\u001b[43m(\u001b[49m\u001b[43mother\u001b[49m\u001b[43m \u001b[49m\u001b[43m/\u001b[49m\u001b[43m/\u001b[49m\u001b[43m \u001b[49m\u001b[32;43m2\u001b[39;49m\u001b[43m)\u001b[49m) * \u001b[38;5;28mself\u001b[39m\n",
      "    \u001b[31m[... skipping similar frames: FQP.__pow__ at line 299 (1 times)]\u001b[39m\n",
      "\u001b[36mFile \u001b[39m\u001b[32m~/crypto_venv/lib/python3.13/site-packages/py_ecc/fields/field_elements.py:299\u001b[39m, in \u001b[36mFQP.__pow__\u001b[39m\u001b[34m(self, other)\u001b[39m\n\u001b[32m    297\u001b[39m     \u001b[38;5;28;01mreturn\u001b[39;00m (\u001b[38;5;28mself\u001b[39m * \u001b[38;5;28mself\u001b[39m) ** (other // \u001b[32m2\u001b[39m)\n\u001b[32m    298\u001b[39m \u001b[38;5;28;01melse\u001b[39;00m:\n\u001b[32m--> \u001b[39m\u001b[32m299\u001b[39m     \u001b[38;5;28;01mreturn\u001b[39;00m ((\u001b[38;5;28;43mself\u001b[39;49m\u001b[43m \u001b[49m\u001b[43m*\u001b[49m\u001b[43m \u001b[49m\u001b[38;5;28;43mself\u001b[39;49m) ** \u001b[38;5;28mint\u001b[39m(other // \u001b[32m2\u001b[39m)) * \u001b[38;5;28mself\u001b[39m\n",
      "\u001b[36mFile \u001b[39m\u001b[32m~/crypto_venv/lib/python3.13/site-packages/py_ecc/fields/field_elements.py:259\u001b[39m, in \u001b[36mFQP.__mul__\u001b[39m\u001b[34m(self, other)\u001b[39m\n\u001b[32m    257\u001b[39m         exp, top = \u001b[38;5;28mlen\u001b[39m(b) - \u001b[38;5;28mself\u001b[39m.degree - \u001b[32m1\u001b[39m, b.pop()\n\u001b[32m    258\u001b[39m         \u001b[38;5;28;01mfor\u001b[39;00m i \u001b[38;5;129;01min\u001b[39;00m \u001b[38;5;28mrange\u001b[39m(\u001b[38;5;28mself\u001b[39m.degree):\n\u001b[32m--> \u001b[39m\u001b[32m259\u001b[39m             b[exp + i] -= \u001b[43mtop\u001b[49m\u001b[43m \u001b[49m\u001b[43m*\u001b[49m\u001b[43m \u001b[49m\u001b[38;5;28;43mself\u001b[39;49m\u001b[43m.\u001b[49m\u001b[43mFQP_corresponding_FQ_class\u001b[49m\u001b[43m(\u001b[49m\n\u001b[32m    260\u001b[39m \u001b[43m                \u001b[49m\u001b[38;5;28;43mself\u001b[39;49m\u001b[43m.\u001b[49m\u001b[43mmodulus_coeffs\u001b[49m\u001b[43m[\u001b[49m\u001b[43mi\u001b[49m\u001b[43m]\u001b[49m\n\u001b[32m    261\u001b[39m \u001b[43m            \u001b[49m\u001b[43m)\u001b[49m\n\u001b[32m    262\u001b[39m     \u001b[38;5;28;01mreturn\u001b[39;00m \u001b[38;5;28mtype\u001b[39m(\u001b[38;5;28mself\u001b[39m)(b)\n\u001b[32m    263\u001b[39m \u001b[38;5;28;01melse\u001b[39;00m:\n",
      "\u001b[36mFile \u001b[39m\u001b[32m~/crypto_venv/lib/python3.13/site-packages/py_ecc/fields/field_elements.py:73\u001b[39m, in \u001b[36mFQ.__mul__\u001b[39m\u001b[34m(self, other)\u001b[39m\n\u001b[32m     67\u001b[39m         \u001b[38;5;28;01mraise\u001b[39;00m \u001b[38;5;167;01mTypeError\u001b[39;00m(\n\u001b[32m     68\u001b[39m             \u001b[33mf\u001b[39m\u001b[33m\"\u001b[39m\u001b[33mExpected an int or FQ object, but got object of type \u001b[39m\u001b[38;5;132;01m{\u001b[39;00m\u001b[38;5;28mtype\u001b[39m(other)\u001b[38;5;132;01m}\u001b[39;00m\u001b[33m\"\u001b[39m\n\u001b[32m     69\u001b[39m         )\n\u001b[32m     71\u001b[39m     \u001b[38;5;28;01mreturn\u001b[39;00m \u001b[38;5;28mtype\u001b[39m(\u001b[38;5;28mself\u001b[39m)((\u001b[38;5;28mself\u001b[39m.n + on) % \u001b[38;5;28mself\u001b[39m.field_modulus)\n\u001b[32m---> \u001b[39m\u001b[32m73\u001b[39m \u001b[38;5;28;01mdef\u001b[39;00m\u001b[38;5;250m \u001b[39m\u001b[34m__mul__\u001b[39m(\u001b[38;5;28mself\u001b[39m: T_FQ, other: IntOrFQ) -> T_FQ:\n\u001b[32m     74\u001b[39m     \u001b[38;5;28;01mif\u001b[39;00m \u001b[38;5;28misinstance\u001b[39m(other, FQ):\n\u001b[32m     75\u001b[39m         on = other.n\n",
      "\u001b[31mKeyboardInterrupt\u001b[39m: "
     ]
    }
   ],
   "source": [
    "private_key = int.from_bytes(os.urandom(32), 'big') % curve_order\n",
    "public_key = multiply(G1, private_key)  # [private_key]G2\n",
    "signature = blsSign(20520820,private_key)\n",
    "benchmarkSize = 4\n",
    "encryptionTimes = []\n",
    "decryptionTimes = []\n",
    "for j in range(17,20):\n",
    "    tableSize = 2**j\n",
    "    table = createLookUpTable(tableSize)\n",
    "    print(\"The \"+str(j)+\"th lookup table is ready\")\n",
    "    encryptionTime = 0\n",
    "    decryptionTime = 0\n",
    "    print(j)\n",
    "    for i in range(benchmarkSize):\n",
    "        message = tableSize-1-i*(tableSize//benchmarkSize)\n",
    "        start = time.time()\n",
    "        (c1,c2)=encrypt(message,20520820,public_key)\n",
    "        end = time.time()\n",
    "        encryptionTime+=(end-start)\n",
    "        start = time.time()\n",
    "        decrypt(c1,c2,20520820,signature,table,public_key)\n",
    "        end = time.time()\n",
    "        decryptionTime+=(end-start)\n",
    "    print(encryptionTime/benchmarkSize,decryptionTime/benchmarkSize)\n",
    "    encryptionTimes.append(encryptionTime/benchmarkSize)\n",
    "    decryptionTimes.append(decryptionTime/benchmarkSize)"
   ]
  },
  {
   "cell_type": "code",
   "execution_count": null,
   "id": "99832b8f-5852-4e82-adc8-9e33db37d287",
   "metadata": {},
   "outputs": [],
   "source": [
    "print(encryptionTimes)"
   ]
  },
  {
   "cell_type": "code",
   "execution_count": 244,
   "id": "4ccf1e94-45d7-4813-a7ca-7d87f35a2b84",
   "metadata": {},
   "outputs": [
    {
     "name": "stdout",
     "output_type": "stream",
     "text": [
      "[1.92889004945755, 1.9304082989692688, 1.9462448954582214, 1.946574866771698, 1.9762815833091736, 1.9288567900657654, 1.9295653104782104, 1.9387152194976807, 1.9209685921669006, 1.94856196641922, 1.929402470588684, 1.9461219906806946, 1.9316332340240479, 1.9411841034889221]\n"
     ]
    }
   ],
   "source": [
    "print(decryptionTimes)"
   ]
  },
  {
   "cell_type": "code",
   "execution_count": 15,
   "id": "ac556093-1458-4807-8c8e-84d087e971c2",
   "metadata": {},
   "outputs": [
    {
     "name": "stdout",
     "output_type": "stream",
     "text": [
      "2 0.000469207763671875\n",
      "4 0.0009741783142089844\n",
      "8 0.0019681453704833984\n",
      "16 0.003941059112548828\n",
      "32 0.007869243621826172\n",
      "64 0.01544189453125\n",
      "128 0.031036853790283203\n",
      "256 0.061914920806884766\n",
      "512 0.12740302085876465\n",
      "1024 0.24971914291381836\n",
      "2048 0.4975550174713135\n",
      "4096 0.9962918758392334\n",
      "8192 2.006026029586792\n"
     ]
    }
   ],
   "source": [
    "## gotta have a measurement about the time it takes to homomorphically add HSWE ciphertexts\n",
    "homomorphicAdditionTimes = []\n",
    "private_key = int.from_bytes(os.urandom(32), 'big') % curve_order\n",
    "public_key = multiply(G1, private_key)  # [private_key]G2\n",
    "for i in range(1,14):\n",
    "    (c1,c2)=encrypt(43,20520820,public_key)\n",
    "    (c3,c4)=encrypt(43654,20520820,public_key)\n",
    "    start = time.time()\n",
    "    for j in range(2**i):\n",
    "        c3,c4 = homomorphicAddition(c1,c2,c3,c4)\n",
    "    end = time.time()\n",
    "    print(2**i, end - start)\n",
    "    homomorphicAdditionTimes.append(end-start)"
   ]
  },
  {
   "cell_type": "code",
   "execution_count": 16,
   "id": "d8f6965f-4193-46ef-ba4f-37ac3b846a45",
   "metadata": {},
   "outputs": [
    {
     "name": "stdout",
     "output_type": "stream",
     "text": [
      "[0.000469207763671875, 0.0009741783142089844, 0.0019681453704833984, 0.003941059112548828, 0.007869243621826172, 0.01544189453125, 0.031036853790283203, 0.061914920806884766, 0.12740302085876465, 0.24971914291381836, 0.4975550174713135, 0.9962918758392334, 2.006026029586792]\n"
     ]
    }
   ],
   "source": [
    "print(homomorphicAdditionTimes)"
   ]
  },
  {
   "cell_type": "code",
   "execution_count": null,
   "id": "fff9cf6b-8051-40f0-8b6b-2e9692726601",
   "metadata": {},
   "outputs": [],
   "source": [
    "## RSA-Paillier scheme implementation asap"
   ]
  },
  {
   "cell_type": "code",
   "execution_count": 4,
   "id": "0daa5be0-aeee-49f7-b879-f75f8aa19f13",
   "metadata": {},
   "outputs": [],
   "source": [
    "def random_prime(n):\n",
    "    prime_candidate = 2\n",
    "    while True:\n",
    "            prime_candidate = getLowLevelPrime(n)\n",
    "            if not isMillerRabinPassed(prime_candidate):\n",
    "                continue\n",
    "            else:\n",
    "                break\n",
    "    return prime_candidate"
   ]
  },
  {
   "cell_type": "code",
   "execution_count": 5,
   "id": "45addc28-c6ba-4016-92e0-6cc67347a482",
   "metadata": {},
   "outputs": [],
   "source": [
    "# Large Prime Generation for RSA\n",
    "import random\n",
    " \n",
    "# Pre generated primes\n",
    "first_primes_list = [2, 3, 5, 7, 11, 13, 17, 19, 23, 29,\n",
    "                     31, 37, 41, 43, 47, 53, 59, 61, 67,\n",
    "                     71, 73, 79, 83, 89, 97, 101, 103,\n",
    "                     107, 109, 113, 127, 131, 137, 139,\n",
    "                     149, 151, 157, 163, 167, 173, 179,\n",
    "                     181, 191, 193, 197, 199, 211, 223,\n",
    "                     227, 229, 233, 239, 241, 251, 257,\n",
    "                     263, 269, 271, 277, 281, 283, 293,\n",
    "                     307, 311, 313, 317, 331, 337, 347, 349]\n",
    " \n",
    " \n",
    "def nBitRandom(n):\n",
    "    return random.randrange(2**(n-1)+1, 2**n - 1)\n",
    " \n",
    " \n",
    "def getLowLevelPrime(n):\n",
    "    '''Generate a prime candidate divisible \n",
    "    by first primes'''\n",
    "    while True:\n",
    "        # Obtain a random number\n",
    "        pc = nBitRandom(n)\n",
    " \n",
    "        # Test divisibility by pre-generated\n",
    "        # primes\n",
    "        for divisor in first_primes_list:\n",
    "            if pc % divisor == 0 and divisor**2 <= pc:\n",
    "                break\n",
    "        else:\n",
    "            return pc\n",
    " \n",
    " \n",
    "def isMillerRabinPassed(mrc):\n",
    "    '''Run 30 iterations of Rabin Miller Primality test'''\n",
    "    maxDivisionsByTwo = 0\n",
    "    ec = mrc-1\n",
    "    while ec % 2 == 0:\n",
    "        ec >>= 1\n",
    "        maxDivisionsByTwo += 1\n",
    "    assert(2**maxDivisionsByTwo * ec == mrc-1)\n",
    " \n",
    "    def trialComposite(round_tester):\n",
    "        if pow(round_tester, ec, mrc) == 1:\n",
    "            return False\n",
    "        for i in range(maxDivisionsByTwo):\n",
    "            if pow(round_tester, 2**i * ec, mrc) == mrc-1:\n",
    "                return False\n",
    "        return True\n",
    " \n",
    "    # Set number of trials here\n",
    "    numberOfRabinTrials = 30\n",
    "    for i in range(numberOfRabinTrials):\n",
    "        round_tester = random.randrange(2, mrc)\n",
    "        if trialComposite(round_tester):\n",
    "            return False\n",
    "    return True"
   ]
  },
  {
   "cell_type": "code",
   "execution_count": 20,
   "id": "fefb67ad-96d9-4a2b-bfd4-8843a3f5cebf",
   "metadata": {},
   "outputs": [
    {
     "name": "stdout",
     "output_type": "stream",
     "text": [
      "q 116611481445197203772824271007361947795379264339169615479567920769088265829104751086890395555777458354599893188514422425109660741664019996285011446869549494200608259856787170301106359688973678623479886301082018485375797685211552669388608189517203737820216210249602744776160646033893805538438910350615604858313\n",
      "p 176667939693566499731178786144670647438661375705672633631256344669723543117232537166740867901690678434901096807008907916379926421775153376042104694433719474277121171647204074481939404995451198915583416340851957623521175843809169484611371838804096931583207508094997116222424094437080716337927920328737786140241\n",
      "N 20601510171537548453520614606986485633504875365129215814887337475640063195359876543235474548068026823284021461452131226215223922462831390046980675561690033483616489521828564197199826243512834215409389458381217693897340766150140732553985166134148302945964153691492521985650950841826704772509324280520840384132850421427769156021681735164113729525472576971345228148934098902965441217560001363197648905081477799027829031724534708446777709446344424998920163714042691864405180621965098271537897760487562460316589581785434304239213764753893135087430671635156589748458640870504430641763779776773128849675703613342355952673433\n",
      "d 224694117184216801291681491268882362655863222008644936420274401097388345620768563825722917742294132253399397914704454556705157611792036744804751957039145298780072325166677663851224879074355504403109895280300974708202523835717739209042499740139749619671607361378047742346242340127228236099493162533706741162362835379441853573852328531886572723581710302268716694986452156188779992553935729831412587280421712266691172489745270923229525099856887632770303504258928033842967831350178658119818061458717480731342338592580715753054429717679681254397688027546342952605866153956035307147506803993917951325014177787583260533351168012659113336844547838635660133099227156716442580263249934439392368506081662342747810772535669209161547585593815774808919065674142379186718834147918707045544973379625281009732545699662329884845091159447811290691489426485512423488644856406954350022188904640928586083765825533264175757284307195240647288097850116978184980327576036281205914860801905094832115731709153042841480877734706526368338315451449679671758271975458350945904292470727420826053519808330608297671255364887778487646812441750245716638000425558008353175480388758403453039100089689043364693320701512372020303518620351958247034413149466938677865729831153\n",
      "Key generation completed\n"
     ]
    }
   ],
   "source": [
    "## Key Generation\n",
    "p = random_prime(1024)\n",
    "q = random_prime(1024)\n",
    "e = 17\n",
    "N = p*q\n",
    "N2 = N*N\n",
    "phiN = (p-1)*(q-1)\n",
    "phiN2 = phiN*phiN\n",
    "d = pow(e,-1,phiN2)\n",
    "print(\"q\",q)\n",
    "print(\"p\",p)\n",
    "print(\"N\",N)\n",
    "print(\"d\",d)\n",
    "print(\"Key generation completed\")"
   ]
  },
  {
   "cell_type": "code",
   "execution_count": 14,
   "id": "9e584905-4f1d-43e7-86e7-c08c6fafccec",
   "metadata": {},
   "outputs": [],
   "source": [
    "def egcd(a, b):\n",
    "    if a == 0:\n",
    "        return (b, 0, 1)\n",
    "    else:\n",
    "        g, y, x = egcd(b % a, a)\n",
    "        return (g, x - (b // a) * y, y)\n",
    "\n",
    "def modinv(a, m):\n",
    "    g, x, y = egcd(a, m)\n",
    "    if g != 1:\n",
    "        raise Exception('modular inverse does not exist')\n",
    "    else:\n",
    "        return x % m"
   ]
  },
  {
   "cell_type": "code",
   "execution_count": 32,
   "id": "e75d9c54-1f72-4cce-9b13-b588622e0f51",
   "metadata": {},
   "outputs": [],
   "source": [
    "## Encryption algorithm\n",
    "def encRSA(m,rho,N,N2,e):\n",
    "    ## modular inverse: y = pow(x, -1, p)\n",
    "    ## hashedRho = hashlib.sha256(str(rho).encode()).digest()\n",
    "    hashedRho = rho\n",
    "    r = int.from_bytes(os.urandom(32), 'big')\n",
    "    U = (pow(1+N,m, N2)*pow(hashedRho,N*r*rho,N2))%N2\n",
    "    V = pow(hashedRho, N*e*r*rho, N2)\n",
    "    return (U,V)"
   ]
  },
  {
   "cell_type": "code",
   "execution_count": 75,
   "id": "2198f942-2e03-4966-9d46-be897cb24e3d",
   "metadata": {},
   "outputs": [],
   "source": [
    "def homomorphicAddRSA(U1,V1,U2,V2,N2):\n",
    "    U3 = (U1*U2)%N2\n",
    "    V3 = (V1*V2)%N2\n",
    "    return (U3,V3)"
   ]
  },
  {
   "cell_type": "code",
   "execution_count": 21,
   "id": "9cfa940d-23d6-46fd-bb6a-a026cb6fe189",
   "metadata": {},
   "outputs": [],
   "source": [
    "def signRSA(V,d,N2):\n",
    "    return pow(V,d,N2)"
   ]
  },
  {
   "cell_type": "code",
   "execution_count": 68,
   "id": "0841ebe2-534d-4249-ad03-12d6f49ac05e",
   "metadata": {},
   "outputs": [],
   "source": [
    "## Decryption algorithm\n",
    "## Inputs: ciphertext U, V, rho, sigma (the RSA signature on the ciphertext)\n",
    "def decRSA(U,V,rho,sigma,N,N2):\n",
    "    W = (U*pow(sigma,-1,N2))%N2\n",
    "    m = (W-1)//N\n",
    "    return int(m)"
   ]
  },
  {
   "cell_type": "code",
   "execution_count": 34,
   "id": "186ee2df-4a7c-495c-8c38-615eb3939fa5",
   "metadata": {},
   "outputs": [],
   "source": [
    "(U,V)=encRSA(23,20250514,N,N2,e)"
   ]
  },
  {
   "cell_type": "code",
   "execution_count": 39,
   "id": "da8f7e5f-cc55-4048-ba4c-cc710526f375",
   "metadata": {},
   "outputs": [],
   "source": [
    "sigma = signRSA(V,d,N2)"
   ]
  },
  {
   "cell_type": "code",
   "execution_count": 44,
   "id": "6c5165ec-72ee-4737-a6cc-3a7a3ffd3778",
   "metadata": {},
   "outputs": [],
   "source": [
    "W = decRSA(U,V,20250514,sigma)"
   ]
  },
  {
   "cell_type": "code",
   "execution_count": 72,
   "id": "cac0246c-5266-44ec-83cc-9345051e1e9c",
   "metadata": {},
   "outputs": [
    {
     "name": "stdout",
     "output_type": "stream",
     "text": [
      "0 True 22654653454549669696964832929654654646464653464646466356432\n",
      "1 True 22654653454549669696964832929654654646464653464646466356433\n",
      "2 True 22654653454549669696964832929654654646464653464646466356434\n",
      "3 True 22654653454549669696964832929654654646464653464646466356435\n",
      "4 True 22654653454549669696964832929654654646464653464646466356436\n",
      "5 True 22654653454549669696964832929654654646464653464646466356437\n",
      "6 True 22654653454549669696964832929654654646464653464646466356438\n",
      "7 True 22654653454549669696964832929654654646464653464646466356439\n",
      "8 True 22654653454549669696964832929654654646464653464646466356440\n",
      "9 True 22654653454549669696964832929654654646464653464646466356441\n",
      "10 True 22654653454549669696964832929654654646464653464646466356442\n",
      "11 True 22654653454549669696964832929654654646464653464646466356443\n",
      "12 True 22654653454549669696964832929654654646464653464646466356444\n",
      "13 True 22654653454549669696964832929654654646464653464646466356445\n",
      "14 True 22654653454549669696964832929654654646464653464646466356446\n",
      "15 True 22654653454549669696964832929654654646464653464646466356447\n",
      "16 True 22654653454549669696964832929654654646464653464646466356448\n",
      "17 True 22654653454549669696964832929654654646464653464646466356449\n",
      "18 True 22654653454549669696964832929654654646464653464646466356450\n",
      "19 True 22654653454549669696964832929654654646464653464646466356451\n",
      "20 True 22654653454549669696964832929654654646464653464646466356452\n",
      "21 True 22654653454549669696964832929654654646464653464646466356453\n",
      "22 True 22654653454549669696964832929654654646464653464646466356454\n",
      "23 True 22654653454549669696964832929654654646464653464646466356455\n",
      "24 True 22654653454549669696964832929654654646464653464646466356456\n",
      "25 True 22654653454549669696964832929654654646464653464646466356457\n",
      "26 True 22654653454549669696964832929654654646464653464646466356458\n",
      "27 True 22654653454549669696964832929654654646464653464646466356459\n",
      "28 True 22654653454549669696964832929654654646464653464646466356460\n",
      "29 True 22654653454549669696964832929654654646464653464646466356461\n",
      "30 True 22654653454549669696964832929654654646464653464646466356462\n",
      "31 True 22654653454549669696964832929654654646464653464646466356463\n",
      "32 True 22654653454549669696964832929654654646464653464646466356464\n",
      "33 True 22654653454549669696964832929654654646464653464646466356465\n",
      "34 True 22654653454549669696964832929654654646464653464646466356466\n",
      "35 True 22654653454549669696964832929654654646464653464646466356467\n",
      "36 True 22654653454549669696964832929654654646464653464646466356468\n",
      "37 True 22654653454549669696964832929654654646464653464646466356469\n",
      "38 True 22654653454549669696964832929654654646464653464646466356470\n",
      "39 True 22654653454549669696964832929654654646464653464646466356471\n",
      "40 True 22654653454549669696964832929654654646464653464646466356472\n",
      "41 True 22654653454549669696964832929654654646464653464646466356473\n",
      "42 True 22654653454549669696964832929654654646464653464646466356474\n",
      "43 True 22654653454549669696964832929654654646464653464646466356475\n",
      "44 True 22654653454549669696964832929654654646464653464646466356476\n",
      "45 True 22654653454549669696964832929654654646464653464646466356477\n",
      "46 True 22654653454549669696964832929654654646464653464646466356478\n",
      "47 True 22654653454549669696964832929654654646464653464646466356479\n",
      "48 True 22654653454549669696964832929654654646464653464646466356480\n",
      "49 True 22654653454549669696964832929654654646464653464646466356481\n",
      "50 True 22654653454549669696964832929654654646464653464646466356482\n",
      "51 True 22654653454549669696964832929654654646464653464646466356483\n",
      "52 True 22654653454549669696964832929654654646464653464646466356484\n",
      "53 True 22654653454549669696964832929654654646464653464646466356485\n",
      "54 True 22654653454549669696964832929654654646464653464646466356486\n",
      "55 True 22654653454549669696964832929654654646464653464646466356487\n",
      "56 True 22654653454549669696964832929654654646464653464646466356488\n",
      "57 True 22654653454549669696964832929654654646464653464646466356489\n",
      "58 True 22654653454549669696964832929654654646464653464646466356490\n",
      "59 True 22654653454549669696964832929654654646464653464646466356491\n",
      "60 True 22654653454549669696964832929654654646464653464646466356492\n",
      "61 True 22654653454549669696964832929654654646464653464646466356493\n",
      "62 True 22654653454549669696964832929654654646464653464646466356494\n",
      "63 True 22654653454549669696964832929654654646464653464646466356495\n",
      "64 True 22654653454549669696964832929654654646464653464646466356496\n",
      "65 True 22654653454549669696964832929654654646464653464646466356497\n",
      "66 True 22654653454549669696964832929654654646464653464646466356498\n",
      "67 True 22654653454549669696964832929654654646464653464646466356499\n",
      "68 True 22654653454549669696964832929654654646464653464646466356500\n",
      "69 True 22654653454549669696964832929654654646464653464646466356501\n",
      "70 True 22654653454549669696964832929654654646464653464646466356502\n",
      "71 True 22654653454549669696964832929654654646464653464646466356503\n",
      "72 True 22654653454549669696964832929654654646464653464646466356504\n",
      "73 True 22654653454549669696964832929654654646464653464646466356505\n",
      "74 True 22654653454549669696964832929654654646464653464646466356506\n",
      "75 True 22654653454549669696964832929654654646464653464646466356507\n",
      "76 True 22654653454549669696964832929654654646464653464646466356508\n",
      "77 True 22654653454549669696964832929654654646464653464646466356509\n",
      "78 True 22654653454549669696964832929654654646464653464646466356510\n",
      "79 True 22654653454549669696964832929654654646464653464646466356511\n",
      "80 True 22654653454549669696964832929654654646464653464646466356512\n",
      "81 True 22654653454549669696964832929654654646464653464646466356513\n",
      "82 True 22654653454549669696964832929654654646464653464646466356514\n",
      "83 True 22654653454549669696964832929654654646464653464646466356515\n",
      "84 True 22654653454549669696964832929654654646464653464646466356516\n",
      "85 True 22654653454549669696964832929654654646464653464646466356517\n",
      "86 True 22654653454549669696964832929654654646464653464646466356518\n",
      "87 True 22654653454549669696964832929654654646464653464646466356519\n",
      "88 True 22654653454549669696964832929654654646464653464646466356520\n",
      "89 True 22654653454549669696964832929654654646464653464646466356521\n",
      "90 True 22654653454549669696964832929654654646464653464646466356522\n",
      "91 True 22654653454549669696964832929654654646464653464646466356523\n",
      "92 True 22654653454549669696964832929654654646464653464646466356524\n",
      "93 True 22654653454549669696964832929654654646464653464646466356525\n",
      "94 True 22654653454549669696964832929654654646464653464646466356526\n",
      "95 True 22654653454549669696964832929654654646464653464646466356527\n",
      "96 True 22654653454549669696964832929654654646464653464646466356528\n",
      "97 True 22654653454549669696964832929654654646464653464646466356529\n",
      "98 True 22654653454549669696964832929654654646464653464646466356530\n",
      "99 True 22654653454549669696964832929654654646464653464646466356531\n",
      "Average encryption time: 0.11857630014419555\n",
      "Average decryption time: 0.0008774781227111816\n"
     ]
    }
   ],
   "source": [
    "## Bencharmking HSWE-RSA Encryption and Decryption times\n",
    "benchmarkSize = 100\n",
    "m =22654653454549669696964832929654654646464653464646466356432\n",
    "encryptionTimes = 0\n",
    "decryptionTimes = 0\n",
    "for i in range(benchmarkSize):\n",
    "    start = time.time()\n",
    "    (U,V)=encRSA(m+i,20250514,N,N2,e)\n",
    "    end = time.time()\n",
    "    encryptionTimes+=(end-start)\n",
    "    sigma = signRSA(V,d, N2)\n",
    "    start = time.time()\n",
    "    m1=decRSA(U,V,20250514,sigma, N, N2)\n",
    "    end = time.time()\n",
    "    print(i,m1==(m+i),m1)\n",
    "    decryptionTimes+=(end-start)\n",
    "print(\"Average encryption time:\", encryptionTimes/benchmarkSize)\n",
    "print(\"Average decryption time:\", decryptionTimes/benchmarkSize)"
   ]
  },
  {
   "cell_type": "code",
   "execution_count": 77,
   "id": "6cd8be5d-401c-43f9-abc0-9fadaafcc27d",
   "metadata": {},
   "outputs": [
    {
     "name": "stdout",
     "output_type": "stream",
     "text": [
      "2 0.00011181831359863281\n",
      "4 0.00021886825561523438\n",
      "8 0.00043320655822753906\n",
      "16 0.0008690357208251953\n",
      "32 0.0017910003662109375\n",
      "64 0.003493785858154297\n",
      "128 0.0070421695709228516\n",
      "256 0.013981819152832031\n",
      "512 0.027745962142944336\n",
      "1024 0.05549192428588867\n",
      "2048 0.11087489128112793\n",
      "4096 0.2215569019317627\n",
      "8192 0.44260621070861816\n"
     ]
    }
   ],
   "source": [
    "## Benchmarking HSWE-RSA homomorphic addition for multiple ciphertexts\n",
    "homomorphicAdditionTimes = []\n",
    "m =22654653454549669696964832929654654646464653464646466356432\n",
    "mprime = 53564365346534646785546786865765757868655346464758685746465354353525243242\n",
    "for i in range(1,14):\n",
    "    (c1,c2) = encRSA(m,20250514,N,N2,e)\n",
    "    (c3,c4) = encRSA(mprime,20250514,N,N2,e)\n",
    "    start = time.time()\n",
    "    for j in range(2**i):\n",
    "        c3,c4 = homomorphicAddRSA(c1,c2,c3,c4,N2)\n",
    "    end = time.time()\n",
    "    print(2**i, end - start)\n",
    "    homomorphicAdditionTimes.append(end-start)"
   ]
  },
  {
   "cell_type": "code",
   "execution_count": 78,
   "id": "bca62150-9071-4450-bff6-304d5efa7ba0",
   "metadata": {},
   "outputs": [
    {
     "name": "stdout",
     "output_type": "stream",
     "text": [
      "[0.00011181831359863281, 0.00021886825561523438, 0.00043320655822753906, 0.0008690357208251953, 0.0017910003662109375, 0.003493785858154297, 0.0070421695709228516, 0.013981819152832031, 0.027745962142944336, 0.05549192428588867, 0.11087489128112793, 0.2215569019317627, 0.44260621070861816]\n"
     ]
    }
   ],
   "source": [
    "print(homomorphicAdditionTimes)"
   ]
  },
  {
   "cell_type": "code",
   "execution_count": 1,
   "id": "1587f765-4604-47b5-a6a9-0ebbd3c6537b",
   "metadata": {},
   "outputs": [
    {
     "data": {
      "text/plain": [
       "15892.48"
      ]
     },
     "execution_count": 1,
     "metadata": {},
     "output_type": "execute_result"
    }
   ],
   "source": [
    "8192*1.94"
   ]
  },
  {
   "cell_type": "code",
   "execution_count": 4,
   "id": "26e3025c-fb85-4f93-9223-1b22ba5e2599",
   "metadata": {},
   "outputs": [
    {
     "data": {
      "text/plain": [
       "16.244343891402714"
      ]
     },
     "execution_count": 4,
     "metadata": {},
     "output_type": "execute_result"
    }
   ],
   "source": [
    "7.18/0.442"
   ]
  },
  {
   "cell_type": "code",
   "execution_count": 3,
   "id": "2319df60-f25a-4ea8-812b-186817311cb3",
   "metadata": {},
   "outputs": [
    {
     "data": {
      "text/plain": [
       "7906.706467661692"
      ]
     },
     "execution_count": 3,
     "metadata": {},
     "output_type": "execute_result"
    }
   ],
   "source": [
    "15892.48/2.01"
   ]
  },
  {
   "cell_type": "code",
   "execution_count": null,
   "id": "6954f9aa-d19b-49bf-b6cd-964e219d29f1",
   "metadata": {},
   "outputs": [],
   "source": []
  }
 ],
 "metadata": {
  "kernelspec": {
   "display_name": "Python (crypto_venv)",
   "language": "python",
   "name": "crypto_venv"
  },
  "language_info": {
   "codemirror_mode": {
    "name": "ipython",
    "version": 3
   },
   "file_extension": ".py",
   "mimetype": "text/x-python",
   "name": "python",
   "nbconvert_exporter": "python",
   "pygments_lexer": "ipython3",
   "version": "3.13.3"
  }
 },
 "nbformat": 4,
 "nbformat_minor": 5
}
